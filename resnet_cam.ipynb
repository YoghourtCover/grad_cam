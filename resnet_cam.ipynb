{
 "cells": [
  {
   "cell_type": "code",
   "execution_count": 1,
   "metadata": {},
   "outputs": [],
   "source": [
    "import tensorflow as tf\n",
    "from tensorflow.python.keras.applications import resnet50\n",
    "\n",
    "from tensorflow.python.keras.layers import Dense, GlobalAveragePooling2D, Conv2D, ZeroPadding2D\n",
    "from tensorflow.python.keras.models import Sequential, Model\n",
    "\n",
    "from tensorflow.python.keras.callbacks import EarlyStopping, TensorBoard, ModelCheckpoint\n",
    "from tensorflow.python.keras.preprocessing.image import ImageDataGenerator"
   ]
  },
  {
   "cell_type": "code",
   "execution_count": 2,
   "metadata": {},
   "outputs": [],
   "source": [
    "img_width, img_height, img_channel = 224, 224, 3"
   ]
  },
  {
   "cell_type": "code",
   "execution_count": 3,
   "metadata": {},
   "outputs": [],
   "source": [
    "base_model = resnet50.ResNet50(include_top = False, input_shape=(img_width, img_height, img_channel))"
   ]
  },
  {
   "cell_type": "code",
   "execution_count": 4,
   "metadata": {},
   "outputs": [],
   "source": [
    "nb_classes = 5"
   ]
  },
  {
   "cell_type": "code",
   "execution_count": 5,
   "metadata": {},
   "outputs": [],
   "source": [
    "base_model.outputs = [base_model.layers[-1].output]"
   ]
  },
  {
   "cell_type": "code",
   "execution_count": 6,
   "metadata": {},
   "outputs": [],
   "source": [
    "last = base_model.outputs[0]\n",
    "x = GlobalAveragePooling2D()(last)\n",
    "preds = Dense(nb_classes, activation='softmax')(x)"
   ]
  },
  {
   "cell_type": "code",
   "execution_count": 7,
   "metadata": {},
   "outputs": [],
   "source": [
    "tl_model = Model(base_model.input, preds)"
   ]
  },
  {
   "cell_type": "code",
   "execution_count": 8,
   "metadata": {},
   "outputs": [],
   "source": [
    "for layer in base_model.layers:\n",
    "    layer.trainable = False"
   ]
  },
  {
   "cell_type": "code",
   "execution_count": 9,
   "metadata": {},
   "outputs": [],
   "source": [
    "tl_model.compile(loss='categorical_crossentropy', optimizer='adam', metrics=['accuracy'])"
   ]
  },
  {
   "cell_type": "code",
   "execution_count": 10,
   "metadata": {},
   "outputs": [],
   "source": [
    "# es = EarlyStopping(patience=10, monitor='val_acc')\n",
    "tb = TensorBoard(log_dir='resnet_finetune')\n",
    "filepath=\"weights-improvement-{epoch:02d}-{val_acc:.2f}.hdf5\"\n",
    "cp = ModelCheckpoint(filepath, monitor='val_acc', verbose=1, save_best_only=True, mode='max')"
   ]
  },
  {
   "cell_type": "code",
   "execution_count": 11,
   "metadata": {},
   "outputs": [],
   "source": [
    "train_data_dir = '/input/train'\n",
    "validation_data_dir = '/input/validation'\n",
    "test_data_dir = '/input/test'"
   ]
  },
  {
   "cell_type": "code",
   "execution_count": 12,
   "metadata": {},
   "outputs": [],
   "source": [
    "datagen = ImageDataGenerator(rescale=1./255, \n",
    "                             horizontal_flip=True,\n",
    "                             width_shift_range=0.2, \n",
    "                             height_shift_range=0.2,\n",
    "                             shear_range=0.02)\n",
    "\n",
    "test_datagen = ImageDataGenerator(rescale=1./255)"
   ]
  },
  {
   "cell_type": "code",
   "execution_count": 13,
   "metadata": {},
   "outputs": [],
   "source": [
    "tr_batchsize = 32\n",
    "val_batchsize = 32\n",
    "test_batchsize = 32"
   ]
  },
  {
   "cell_type": "code",
   "execution_count": 14,
   "metadata": {},
   "outputs": [
    {
     "name": "stdout",
     "output_type": "stream",
     "text": [
      "Found 1483 images belonging to 5 classes.\n",
      "Found 184 images belonging to 5 classes.\n",
      "Found 154 images belonging to 5 classes.\n"
     ]
    }
   ],
   "source": [
    "train_generator = datagen.flow_from_directory(\n",
    "    train_data_dir,\n",
    "    target_size=(img_width, img_height),\n",
    "    batch_size=tr_batchsize,\n",
    "    class_mode='categorical')\n",
    "\n",
    "\n",
    "validation_generator = datagen.flow_from_directory(\n",
    "    validation_data_dir,\n",
    "    target_size=(img_width, img_height),\n",
    "    batch_size=val_batchsize,\n",
    "    class_mode='categorical')\n",
    "\n",
    "test_generator = test_datagen.flow_from_directory(\n",
    "    test_data_dir,\n",
    "    target_size=(img_width, img_height),\n",
    "    batch_size=test_batchsize,\n",
    "    class_mode='categorical')"
   ]
  },
  {
   "cell_type": "code",
   "execution_count": 15,
   "metadata": {},
   "outputs": [
    {
     "name": "stdout",
     "output_type": "stream",
     "text": [
      "Epoch 1/50\n",
      "45/46 [============================>.] - ETA: 0s - loss: 1.3987 - acc: 0.4035Epoch 00000: val_acc improved from -inf to 0.23125, saving model to weights-improvement-00-0.23.hdf5\n",
      "46/46 [==============================] - 21s - loss: 1.3925 - acc: 0.4062 - val_loss: 1.9407 - val_acc: 0.2313\n",
      "Epoch 2/50\n",
      "45/46 [============================>.] - ETA: 0s - loss: 0.9772 - acc: 0.6317Epoch 00001: val_acc improved from 0.23125 to 0.23750, saving model to weights-improvement-01-0.24.hdf5\n",
      "46/46 [==============================] - 16s - loss: 0.9766 - acc: 0.6330 - val_loss: 1.8338 - val_acc: 0.2375\n",
      "Epoch 3/50\n",
      "45/46 [============================>.] - ETA: 0s - loss: 0.8086 - acc: 0.7217Epoch 00002: val_acc did not improve\n",
      "46/46 [==============================] - 16s - loss: 0.8084 - acc: 0.7222 - val_loss: 2.0456 - val_acc: 0.2125\n",
      "Epoch 4/50\n",
      "45/46 [============================>.] - ETA: 0s - loss: 0.7236 - acc: 0.7537Epoch 00003: val_acc did not improve\n",
      "46/46 [==============================] - 17s - loss: 0.7213 - acc: 0.7549 - val_loss: 2.3953 - val_acc: 0.1812\n",
      "Epoch 5/50\n",
      "45/46 [============================>.] - ETA: 0s - loss: 0.6734 - acc: 0.7628Epoch 00004: val_acc did not improve\n",
      "46/46 [==============================] - 17s - loss: 0.6745 - acc: 0.7599 - val_loss: 2.6731 - val_acc: 0.1938\n",
      "Epoch 6/50\n",
      "45/46 [============================>.] - ETA: 0s - loss: 0.6224 - acc: 0.7966Epoch 00005: val_acc did not improve\n",
      "46/46 [==============================] - 16s - loss: 0.6233 - acc: 0.7962 - val_loss: 2.8329 - val_acc: 0.2000\n",
      "Epoch 7/50\n",
      "45/46 [============================>.] - ETA: 0s - loss: 0.5994 - acc: 0.7912Epoch 00006: val_acc did not improve\n",
      "46/46 [==============================] - 17s - loss: 0.5964 - acc: 0.7937 - val_loss: 2.9729 - val_acc: 0.1875\n",
      "Epoch 8/50\n",
      "45/46 [============================>.] - ETA: 0s - loss: 0.5604 - acc: 0.8003Epoch 00007: val_acc did not improve\n",
      "46/46 [==============================] - 16s - loss: 0.5579 - acc: 0.8006 - val_loss: 3.1034 - val_acc: 0.1688\n",
      "Epoch 9/50\n",
      "45/46 [============================>.] - ETA: 0s - loss: 0.5074 - acc: 0.8363Epoch 00008: val_acc did not improve\n",
      "46/46 [==============================] - 16s - loss: 0.5089 - acc: 0.8358 - val_loss: 2.8462 - val_acc: 0.2250\n",
      "Epoch 10/50\n",
      "45/46 [============================>.] - ETA: 0s - loss: 0.4805 - acc: 0.8446Epoch 00009: val_acc did not improve\n",
      "46/46 [==============================] - 17s - loss: 0.4805 - acc: 0.8439 - val_loss: 2.8922 - val_acc: 0.2250\n",
      "Epoch 11/50\n",
      "45/46 [============================>.] - ETA: 0s - loss: 0.4574 - acc: 0.8461Epoch 00010: val_acc did not improve\n",
      "46/46 [==============================] - 17s - loss: 0.4564 - acc: 0.8469 - val_loss: 3.1344 - val_acc: 0.1812\n",
      "Epoch 12/50\n",
      "45/46 [============================>.] - ETA: 0s - loss: 0.5005 - acc: 0.8314Epoch 00011: val_acc did not improve\n",
      "46/46 [==============================] - 16s - loss: 0.5019 - acc: 0.8290 - val_loss: 2.9659 - val_acc: 0.2250\n",
      "Epoch 13/50\n",
      "45/46 [============================>.] - ETA: 0s - loss: 0.4550 - acc: 0.8473Epoch 00012: val_acc improved from 0.23750 to 0.25625, saving model to weights-improvement-12-0.26.hdf5\n",
      "46/46 [==============================] - 17s - loss: 0.4527 - acc: 0.8486 - val_loss: 2.4361 - val_acc: 0.2562\n",
      "Epoch 14/50\n",
      "45/46 [============================>.] - ETA: 0s - loss: 0.4263 - acc: 0.8572Epoch 00013: val_acc improved from 0.25625 to 0.26250, saving model to weights-improvement-13-0.26.hdf5\n",
      "46/46 [==============================] - 17s - loss: 0.4261 - acc: 0.8563 - val_loss: 2.6470 - val_acc: 0.2625\n",
      "Epoch 15/50\n",
      "45/46 [============================>.] - ETA: 0s - loss: 0.3966 - acc: 0.8606Epoch 00014: val_acc improved from 0.26250 to 0.29375, saving model to weights-improvement-14-0.29.hdf5\n",
      "46/46 [==============================] - 17s - loss: 0.3955 - acc: 0.8623 - val_loss: 2.2458 - val_acc: 0.2938\n",
      "Epoch 16/50\n",
      "45/46 [============================>.] - ETA: 0s - loss: 0.3820 - acc: 0.8799Epoch 00015: val_acc improved from 0.29375 to 0.33750, saving model to weights-improvement-15-0.34.hdf5\n",
      "46/46 [==============================] - 17s - loss: 0.3838 - acc: 0.8798 - val_loss: 2.0760 - val_acc: 0.3375\n",
      "Epoch 17/50\n",
      "45/46 [============================>.] - ETA: 0s - loss: 0.3889 - acc: 0.8779Epoch 00016: val_acc improved from 0.33750 to 0.42500, saving model to weights-improvement-16-0.42.hdf5\n",
      "46/46 [==============================] - 17s - loss: 0.3879 - acc: 0.8779 - val_loss: 1.9756 - val_acc: 0.4250\n",
      "Epoch 18/50\n",
      "45/46 [============================>.] - ETA: 0s - loss: 0.3957 - acc: 0.8688Epoch 00017: val_acc improved from 0.42500 to 0.45000, saving model to weights-improvement-17-0.45.hdf5\n",
      "46/46 [==============================] - 17s - loss: 0.3979 - acc: 0.8676 - val_loss: 1.6015 - val_acc: 0.4500\n",
      "Epoch 19/50\n",
      "45/46 [============================>.] - ETA: 0s - loss: 0.3681 - acc: 0.8779Epoch 00018: val_acc improved from 0.45000 to 0.51250, saving model to weights-improvement-18-0.51.hdf5\n",
      "46/46 [==============================] - 17s - loss: 0.3671 - acc: 0.8792 - val_loss: 1.5373 - val_acc: 0.5125\n",
      "Epoch 20/50\n",
      "45/46 [============================>.] - ETA: 0s - loss: 0.3431 - acc: 0.8938Epoch 00019: val_acc improved from 0.51250 to 0.57500, saving model to weights-improvement-19-0.57.hdf5\n",
      "46/46 [==============================] - 17s - loss: 0.3463 - acc: 0.8907 - val_loss: 1.1945 - val_acc: 0.5750\n",
      "Epoch 21/50\n",
      "45/46 [============================>.] - ETA: 0s - loss: 0.3422 - acc: 0.8946Epoch 00020: val_acc improved from 0.57500 to 0.63125, saving model to weights-improvement-20-0.63.hdf5\n",
      "46/46 [==============================] - 17s - loss: 0.3388 - acc: 0.8955 - val_loss: 1.0992 - val_acc: 0.6312\n",
      "Epoch 22/50\n",
      "45/46 [============================>.] - ETA: 0s - loss: 0.3534 - acc: 0.8884Epoch 00021: val_acc improved from 0.63125 to 0.73750, saving model to weights-improvement-21-0.74.hdf5\n",
      "46/46 [==============================] - 17s - loss: 0.3537 - acc: 0.8881 - val_loss: 0.7450 - val_acc: 0.7375\n",
      "Epoch 23/50\n",
      "45/46 [============================>.] - ETA: 0s - loss: 0.3491 - acc: 0.8834Epoch 00022: val_acc did not improve\n",
      "46/46 [==============================] - 16s - loss: 0.3465 - acc: 0.8839 - val_loss: 0.7963 - val_acc: 0.7125\n",
      "Epoch 24/50\n",
      "45/46 [============================>.] - ETA: 0s - loss: 0.3449 - acc: 0.8931Epoch 00023: val_acc did not improve\n",
      "46/46 [==============================] - 16s - loss: 0.3443 - acc: 0.8927 - val_loss: 0.7688 - val_acc: 0.7125\n",
      "Epoch 25/50\n",
      "45/46 [============================>.] - ETA: 0s - loss: 0.3461 - acc: 0.8772Epoch 00024: val_acc improved from 0.73750 to 0.74375, saving model to weights-improvement-24-0.74.hdf5\n",
      "46/46 [==============================] - 17s - loss: 0.3510 - acc: 0.8751 - val_loss: 0.6352 - val_acc: 0.7438\n",
      "Epoch 26/50\n",
      "45/46 [============================>.] - ETA: 0s - loss: 0.3288 - acc: 0.8835Epoch 00025: val_acc improved from 0.74375 to 0.75625, saving model to weights-improvement-25-0.76.hdf5\n",
      "46/46 [==============================] - 17s - loss: 0.3321 - acc: 0.8826 - val_loss: 0.6747 - val_acc: 0.7562\n",
      "Epoch 27/50\n",
      "45/46 [============================>.] - ETA: 0s - loss: 0.3213 - acc: 0.8973Epoch 00026: val_acc improved from 0.75625 to 0.77500, saving model to weights-improvement-26-0.78.hdf5\n",
      "46/46 [==============================] - 17s - loss: 0.3199 - acc: 0.8982 - val_loss: 0.5398 - val_acc: 0.7750\n",
      "Epoch 28/50\n",
      "45/46 [============================>.] - ETA: 0s - loss: 0.2936 - acc: 0.9098Epoch 00027: val_acc improved from 0.77500 to 0.78125, saving model to weights-improvement-27-0.78.hdf5\n",
      "46/46 [==============================] - 17s - loss: 0.2899 - acc: 0.9112 - val_loss: 0.6857 - val_acc: 0.7812\n",
      "Epoch 29/50\n",
      "45/46 [============================>.] - ETA: 0s - loss: 0.3243 - acc: 0.8980Epoch 00028: val_acc improved from 0.78125 to 0.82500, saving model to weights-improvement-28-0.82.hdf5\n",
      "46/46 [==============================] - 17s - loss: 0.3205 - acc: 0.9002 - val_loss: 0.5053 - val_acc: 0.8250\n",
      "Epoch 30/50\n",
      "45/46 [============================>.] - ETA: 0s - loss: 0.2999 - acc: 0.9078Epoch 00029: val_acc did not improve\n"
     ]
    },
    {
     "name": "stdout",
     "output_type": "stream",
     "text": [
      "46/46 [==============================] - 16s - loss: 0.3003 - acc: 0.9071 - val_loss: 0.5680 - val_acc: 0.7812\n",
      "Epoch 31/50\n",
      "45/46 [============================>.] - ETA: 0s - loss: 0.2979 - acc: 0.9043Epoch 00030: val_acc did not improve\n",
      "46/46 [==============================] - 17s - loss: 0.2951 - acc: 0.9057 - val_loss: 0.4977 - val_acc: 0.8250\n",
      "Epoch 32/50\n",
      "45/46 [============================>.] - ETA: 0s - loss: 0.2699 - acc: 0.9160Epoch 00031: val_acc did not improve\n",
      "46/46 [==============================] - 16s - loss: 0.2714 - acc: 0.9151 - val_loss: 0.6129 - val_acc: 0.8063\n",
      "Epoch 33/50\n",
      "45/46 [============================>.] - ETA: 0s - loss: 0.2998 - acc: 0.9042Epoch 00032: val_acc did not improve\n",
      "46/46 [==============================] - 17s - loss: 0.2982 - acc: 0.9050 - val_loss: 0.6091 - val_acc: 0.7688\n",
      "Epoch 34/50\n",
      "45/46 [============================>.] - ETA: 0s - loss: 0.2681 - acc: 0.9085Epoch 00033: val_acc did not improve\n",
      "46/46 [==============================] - 17s - loss: 0.2665 - acc: 0.9084 - val_loss: 0.5494 - val_acc: 0.8125\n",
      "Epoch 35/50\n",
      "45/46 [============================>.] - ETA: 0s - loss: 0.2821 - acc: 0.9104Epoch 00034: val_acc improved from 0.82500 to 0.83125, saving model to weights-improvement-34-0.83.hdf5\n",
      "46/46 [==============================] - 17s - loss: 0.2834 - acc: 0.9096 - val_loss: 0.5135 - val_acc: 0.8313\n",
      "Epoch 36/50\n",
      "45/46 [============================>.] - ETA: 0s - loss: 0.2615 - acc: 0.9188Epoch 00035: val_acc did not improve\n",
      "46/46 [==============================] - 16s - loss: 0.2593 - acc: 0.9199 - val_loss: 0.5324 - val_acc: 0.7937\n",
      "Epoch 37/50\n",
      "45/46 [============================>.] - ETA: 0s - loss: 0.2877 - acc: 0.9028Epoch 00036: val_acc did not improve\n",
      "46/46 [==============================] - 16s - loss: 0.2883 - acc: 0.9036 - val_loss: 0.5997 - val_acc: 0.8000\n",
      "Epoch 38/50\n",
      "45/46 [============================>.] - ETA: 0s - loss: 0.2709 - acc: 0.9112Epoch 00037: val_acc did not improve\n",
      "46/46 [==============================] - 17s - loss: 0.2710 - acc: 0.9105 - val_loss: 0.5978 - val_acc: 0.8187\n",
      "Epoch 39/50\n",
      "45/46 [============================>.] - ETA: 0s - loss: 0.2774 - acc: 0.9015Epoch 00038: val_acc did not improve\n",
      "46/46 [==============================] - 16s - loss: 0.2796 - acc: 0.9009 - val_loss: 0.5421 - val_acc: 0.8187\n",
      "Epoch 40/50\n",
      "45/46 [============================>.] - ETA: 0s - loss: 0.2662 - acc: 0.9208Epoch 00039: val_acc did not improve\n",
      "46/46 [==============================] - 17s - loss: 0.2658 - acc: 0.9205 - val_loss: 0.5222 - val_acc: 0.7812\n",
      "Epoch 41/50\n",
      "45/46 [============================>.] - ETA: 0s - loss: 0.2408 - acc: 0.9299Epoch 00040: val_acc did not improve\n",
      "46/46 [==============================] - 16s - loss: 0.2396 - acc: 0.9300 - val_loss: 0.5543 - val_acc: 0.7812\n",
      "Epoch 42/50\n",
      "45/46 [============================>.] - ETA: 0s - loss: 0.2298 - acc: 0.9271Epoch 00041: val_acc did not improve\n",
      "46/46 [==============================] - 17s - loss: 0.2274 - acc: 0.9287 - val_loss: 0.5262 - val_acc: 0.7937\n",
      "Epoch 43/50\n",
      "45/46 [============================>.] - ETA: 0s - loss: 0.2584 - acc: 0.9098Epoch 00042: val_acc did not improve\n",
      "46/46 [==============================] - 17s - loss: 0.2624 - acc: 0.9077 - val_loss: 0.6571 - val_acc: 0.7750\n",
      "Epoch 44/50\n",
      "45/46 [============================>.] - ETA: 0s - loss: 0.2110 - acc: 0.9368Epoch 00043: val_acc did not improve\n",
      "46/46 [==============================] - 16s - loss: 0.2113 - acc: 0.9361 - val_loss: 0.5503 - val_acc: 0.7688\n",
      "Epoch 45/50\n",
      "45/46 [============================>.] - ETA: 0s - loss: 0.2305 - acc: 0.9313Epoch 00044: val_acc did not improve\n",
      "46/46 [==============================] - 16s - loss: 0.2357 - acc: 0.9281 - val_loss: 0.6457 - val_acc: 0.7875\n",
      "Epoch 46/50\n",
      "45/46 [============================>.] - ETA: 0s - loss: 0.2419 - acc: 0.9208Epoch 00045: val_acc did not improve\n",
      "46/46 [==============================] - 17s - loss: 0.2407 - acc: 0.9205 - val_loss: 0.5568 - val_acc: 0.7937\n",
      "Epoch 47/50\n",
      "45/46 [============================>.] - ETA: 0s - loss: 0.2459 - acc: 0.9271Epoch 00046: val_acc did not improve\n",
      "46/46 [==============================] - 16s - loss: 0.2456 - acc: 0.9247 - val_loss: 0.5572 - val_acc: 0.8187\n",
      "Epoch 48/50\n",
      "45/46 [============================>.] - ETA: 0s - loss: 0.2251 - acc: 0.9319Epoch 00047: val_acc did not improve\n",
      "46/46 [==============================] - 17s - loss: 0.2214 - acc: 0.9334 - val_loss: 0.4999 - val_acc: 0.7875\n",
      "Epoch 49/50\n",
      "45/46 [============================>.] - ETA: 0s - loss: 0.2374 - acc: 0.9243Epoch 00048: val_acc improved from 0.83125 to 0.86875, saving model to weights-improvement-48-0.87.hdf5\n",
      "46/46 [==============================] - 16s - loss: 0.2370 - acc: 0.9246 - val_loss: 0.4246 - val_acc: 0.8688\n",
      "Epoch 50/50\n",
      "45/46 [============================>.] - ETA: 0s - loss: 0.2260 - acc: 0.9299Epoch 00049: val_acc did not improve\n",
      "46/46 [==============================] - 16s - loss: 0.2276 - acc: 0.9287 - val_loss: 0.4794 - val_acc: 0.8500\n"
     ]
    },
    {
     "data": {
      "text/plain": [
       "<tensorflow.python.keras._impl.keras.callbacks.History at 0x7f1315d09b38>"
      ]
     },
     "execution_count": 15,
     "metadata": {},
     "output_type": "execute_result"
    }
   ],
   "source": [
    "tl_model.fit_generator(generator=train_generator, \n",
    "                       epochs=50, \n",
    "                       steps_per_epoch=train_generator.n // tr_batchsize, \n",
    "                       validation_data=validation_generator, \n",
    "                       validation_steps=validation_generator.n // val_batchsize,\n",
    "                       callbacks=[cp, tb])"
   ]
  },
  {
   "cell_type": "code",
   "execution_count": 16,
   "metadata": {},
   "outputs": [],
   "source": [
    "tl_model.load_weights(\"weights-improvement-48-0.87.hdf5\")"
   ]
  },
  {
   "cell_type": "code",
   "execution_count": 17,
   "metadata": {},
   "outputs": [
    {
     "data": {
      "text/plain": [
       "[0.3167608380317688, 0.890625]"
      ]
     },
     "execution_count": 17,
     "metadata": {},
     "output_type": "execute_result"
    }
   ],
   "source": [
    "tl_model.evaluate_generator(generator=test_generator, \n",
    "                            steps=test_generator.n // test_batchsize)"
   ]
  },
  {
   "cell_type": "code",
   "execution_count": 18,
   "metadata": {},
   "outputs": [],
   "source": [
    "model_json = tl_model.to_json()"
   ]
  },
  {
   "cell_type": "code",
   "execution_count": 19,
   "metadata": {},
   "outputs": [],
   "source": [
    "with open(\"resnet_CAM_new.json\", \"w\") as json_file:\n",
    "    json_file.write(model_json)"
   ]
  },
  {
   "cell_type": "code",
   "execution_count": 20,
   "metadata": {},
   "outputs": [],
   "source": [
    "tl_model.save_weights(\"resnet_CAM_new.h5\")"
   ]
  },
  {
   "cell_type": "code",
   "execution_count": null,
   "metadata": {},
   "outputs": [],
   "source": []
  }
 ],
 "metadata": {
  "kernelspec": {
   "display_name": "Python 3",
   "language": "python",
   "name": "python3"
  },
  "language_info": {
   "codemirror_mode": {
    "name": "ipython",
    "version": 3
   },
   "file_extension": ".py",
   "mimetype": "text/x-python",
   "name": "python",
   "nbconvert_exporter": "python",
   "pygments_lexer": "ipython3",
   "version": "3.6.2"
  }
 },
 "nbformat": 4,
 "nbformat_minor": 2
}
